{
  "nbformat": 4,
  "nbformat_minor": 0,
  "metadata": {
    "colab": {
      "name": "02-tensors_colab.ipynb",
      "provenance": [],
      "collapsed_sections": []
    },
    "kernelspec": {
      "display_name": "Python 3",
      "language": "python",
      "name": "python3"
    },
    "language_info": {
      "codemirror_mode": {
        "name": "ipython",
        "version": 3
      },
      "file_extension": ".py",
      "mimetype": "text/x-python",
      "name": "python",
      "nbconvert_exporter": "python",
      "pygments_lexer": "ipython3",
      "version": "3.8.3"
    },
    "accelerator": "GPU"
  },
  "cells": [
    {
      "cell_type": "markdown",
      "metadata": {
        "colab_type": "text",
        "id": "KdUFcDsdzRyw"
      },
      "source": [
        "# Clonamos el repositorio para obtener los dataSet"
      ]
    },
    {
      "cell_type": "code",
      "metadata": {
        "colab_type": "code",
        "id": "mHReFf3_y9ms",
        "colab": {}
      },
      "source": [
        "!git clone https://github.com/joanby/tensorflow.git"
      ],
      "execution_count": null,
      "outputs": []
    },
    {
      "cell_type": "markdown",
      "metadata": {
        "colab_type": "text",
        "id": "vNKZXgtKzU2x"
      },
      "source": [
        "# Damos acceso a nuestro Drive"
      ]
    },
    {
      "cell_type": "code",
      "metadata": {
        "colab_type": "code",
        "id": "5gu7KWnzzUQ0",
        "colab": {}
      },
      "source": [
        "from google.colab import drive\n",
        "drive.mount('/content/drive')"
      ],
      "execution_count": null,
      "outputs": []
    },
    {
      "cell_type": "markdown",
      "metadata": {
        "colab_type": "text",
        "id": "1gUxIkHWzfHV"
      },
      "source": [
        "# Test it"
      ]
    },
    {
      "cell_type": "code",
      "metadata": {
        "colab_type": "code",
        "id": "mIQt3jBMzYRE",
        "colab": {}
      },
      "source": [
        "!ls '/content/drive/My Drive' "
      ],
      "execution_count": null,
      "outputs": []
    },
    {
      "cell_type": "markdown",
      "metadata": {
        "colab_type": "text",
        "id": "mHsK36uN0XB-"
      },
      "source": [
        "# Google colab tools"
      ]
    },
    {
      "cell_type": "code",
      "metadata": {
        "colab_type": "code",
        "id": "kTzwfUPWzrm4",
        "colab": {}
      },
      "source": [
        "from google.colab import files # Para manejar los archivos y, por ejemplo, exportar a su navegador\n",
        "import glob # Para manejar los archivos y, por ejemplo, exportar a su navegador\n",
        "from google.colab import drive # Montar tu Google drive"
      ],
      "execution_count": null,
      "outputs": []
    },
    {
      "cell_type": "markdown",
      "metadata": {
        "id": "yQQ8nLiMY6wM",
        "colab_type": "text"
      },
      "source": [
        "##Especificando la versión de TensorFlow\n",
        "\n",
        "Ejecutando \"importar tensorflow\" importará la versión por defecto (actualmente 2.x). Puedes usar la 1.x ejecutando una celda con la \"versión mágica de tensorflow\" **antes de ejecutar \"importar tensorflow\".\n",
        "\n",
        "### Si no funciona hacer el pip install\n"
      ]
    },
    {
      "cell_type": "code",
      "metadata": {
        "id": "1j---G3ZY6wN",
        "colab_type": "code",
        "colab": {}
      },
      "source": [
        "#!pip install tensorflow==1.14\n",
        "%tensorflow_version 1.x"
      ],
      "execution_count": null,
      "outputs": []
    },
    {
      "cell_type": "markdown",
      "metadata": {
        "id": "S-OIfuWLujbt",
        "colab_type": "text"
      },
      "source": [
        "# Importar Tensorflow"
      ]
    },
    {
      "cell_type": "code",
      "metadata": {
        "id": "OPSus73fumtP",
        "colab_type": "code",
        "colab": {}
      },
      "source": [
        "import tensorflow as tf\n",
        "print(tf.__version__)"
      ],
      "execution_count": null,
      "outputs": []
    },
    {
      "cell_type": "markdown",
      "metadata": {
        "id": "Z9ZTNKptt8dA",
        "colab_type": "text"
      },
      "source": [
        "$\\vec{v} = (v_1, v_2, v_3,\\cdots, v_n)\\in \\mathbb R^n$ es un tensor unidimensional (vector)"
      ]
    },
    {
      "cell_type": "markdown",
      "metadata": {
        "id": "IC_M6LlGuAp-",
        "colab_type": "text"
      },
      "source": [
        "$ M = \\begin{pmatrix} \n",
        "    1 & 2 & 3\\\\\n",
        "    4 & 5 & 6\n",
        "    \\end{pmatrix} \\in \\mathbb R_{2\\times 3}$ es un tensor bidimensional (matriz)"
      ]
    },
    {
      "cell_type": "markdown",
      "metadata": {
        "id": "XtW9axgo0O0g",
        "colab_type": "text"
      },
      "source": [
        "$ T \\in \\mathbb R_{n_1\\times n_2\\times \\cdots \\times n_k}$ es un tensor $k$-dimesional"
      ]
    },
    {
      "cell_type": "markdown",
      "metadata": {
        "id": "fluc-Axl0SaS",
        "colab_type": "text"
      },
      "source": [
        "##  Tensores fijos"
      ]
    },
    {
      "cell_type": "code",
      "metadata": {
        "id": "2-V4YdfJsCL5",
        "colab_type": "code",
        "colab": {}
      },
      "source": [
        "zero_t = tf.zeros([3, 4, 6])\n",
        "zero_t"
      ],
      "execution_count": null,
      "outputs": []
    },
    {
      "cell_type": "code",
      "metadata": {
        "id": "6L_G-Z560V-U",
        "colab_type": "code",
        "colab": {}
      },
      "source": [
        "ones_t = tf.ones([3, 4])\n",
        "ones_t"
      ],
      "execution_count": null,
      "outputs": []
    },
    {
      "cell_type": "code",
      "metadata": {
        "id": "M-Qjb_730X32",
        "colab_type": "code",
        "colab": {}
      },
      "source": [
        "filled_t = tf.fill([4,5,2], 1988)\n",
        "filled_t"
      ],
      "execution_count": null,
      "outputs": []
    },
    {
      "cell_type": "code",
      "metadata": {
        "id": "TmqTKD5z0aOQ",
        "colab_type": "code",
        "colab": {}
      },
      "source": [
        "cte_t = tf.constant([1,2,3,4,5])\n",
        "cte_t"
      ],
      "execution_count": null,
      "outputs": []
    },
    {
      "cell_type": "markdown",
      "metadata": {
        "id": "7v5UxcIMuINd",
        "colab_type": "text"
      },
      "source": [
        "## Tensores por tamaño"
      ]
    },
    {
      "cell_type": "code",
      "metadata": {
        "id": "AbgaGmAFuen3",
        "colab_type": "code",
        "colab": {}
      },
      "source": [
        "zero_sim = tf.zeros_like(cte_t)\n",
        "zero_sim"
      ],
      "execution_count": null,
      "outputs": []
    },
    {
      "cell_type": "code",
      "metadata": {
        "id": "_mJXUn3E0n8g",
        "colab_type": "code",
        "colab": {}
      },
      "source": [
        "ones_sim = tf.ones_like(cte_t)\n",
        "ones_sim"
      ],
      "execution_count": null,
      "outputs": []
    },
    {
      "cell_type": "markdown",
      "metadata": {
        "id": "E6fR1pKJuLaZ",
        "colab_type": "text"
      },
      "source": [
        "## Tensor en forma de secuencia\n",
        "- linspace()\n",
        "- range()"
      ]
    },
    {
      "cell_type": "code",
      "metadata": {
        "id": "t0sPANbqu909",
        "colab_type": "code",
        "colab": {}
      },
      "source": [
        "sec_t = tf.linspace(start=0.0, stop = 1.0, num = 5)\n",
        "sec_t"
      ],
      "execution_count": null,
      "outputs": []
    },
    {
      "cell_type": "markdown",
      "metadata": {
        "id": "1wrcpp_PuSEL",
        "colab_type": "text"
      },
      "source": [
        "El resultado anterior sería el tensor $[0.0, 0.25, 0.5, 0.75, 1.0]$."
      ]
    },
    {
      "cell_type": "code",
      "metadata": {
        "id": "PMRrdFr8vAA4",
        "colab_type": "code",
        "colab": {}
      },
      "source": [
        "range_seq = tf.range(start=5.0, limit = 15.0, delta = 4.0)\n",
        "range_seq"
      ],
      "execution_count": null,
      "outputs": []
    },
    {
      "cell_type": "markdown",
      "metadata": {
        "id": "FF8ovbE4uUHB",
        "colab_type": "text"
      },
      "source": [
        "El resultado anterior sería el tensor $[5, 9, 13]$."
      ]
    },
    {
      "cell_type": "markdown",
      "metadata": {
        "id": "4J-lP3TY00H3",
        "colab_type": "text"
      },
      "source": [
        "## Tensores aleatorios"
      ]
    },
    {
      "cell_type": "code",
      "metadata": {
        "id": "8sv0a7czvClk",
        "colab_type": "code",
        "colab": {}
      },
      "source": [
        "rand_unif_t = tf.random_uniform([3,4], minval=0, maxval=1)\n",
        "rand_unif_t"
      ],
      "execution_count": null,
      "outputs": []
    },
    {
      "cell_type": "code",
      "metadata": {
        "id": "wgpFhDMpvEkn",
        "colab_type": "code",
        "colab": {}
      },
      "source": [
        "rand_norm_t = tf.random_normal([3, 4], mean=0.0, stddev= 1.0)\n",
        "rand_norm_t"
      ],
      "execution_count": null,
      "outputs": []
    },
    {
      "cell_type": "code",
      "metadata": {
        "id": "Thviq39c04Ou",
        "colab_type": "code",
        "colab": {}
      },
      "source": [
        "rand_trunc_normal_t = tf.truncated_normal([3,4], mean=0.0, stddev=1.0)\n",
        "rand_trunc_normal_t"
      ],
      "execution_count": null,
      "outputs": []
    },
    {
      "cell_type": "code",
      "metadata": {
        "id": "iHvxdvrf06rN",
        "colab_type": "code",
        "colab": {}
      },
      "source": [
        "tf.random_shuffle(rand_unif_t)"
      ],
      "execution_count": null,
      "outputs": []
    },
    {
      "cell_type": "code",
      "metadata": {
        "id": "gAPn3fOS08P3",
        "colab_type": "code",
        "colab": {}
      },
      "source": [
        "tf.random_crop(rand_norm_t, [2,6])"
      ],
      "execution_count": null,
      "outputs": []
    },
    {
      "cell_type": "markdown",
      "metadata": {
        "id": "rFYN2Z4yuV79",
        "colab_type": "text"
      },
      "source": [
        "# Variables"
      ]
    },
    {
      "cell_type": "code",
      "metadata": {
        "id": "6kZQKTaN0_Mo",
        "colab_type": "code",
        "colab": {}
      },
      "source": [
        "tf.Variable(rand_norm_t)"
      ],
      "execution_count": null,
      "outputs": []
    },
    {
      "cell_type": "code",
      "metadata": {
        "id": "vxBvT2Ec1AqE",
        "colab_type": "code",
        "colab": {}
      },
      "source": [
        "tf.convert_to_tensor(1988)"
      ],
      "execution_count": null,
      "outputs": []
    },
    {
      "cell_type": "code",
      "metadata": {
        "id": "NaW-qs5n1Cip",
        "colab_type": "code",
        "colab": {}
      },
      "source": [
        "tf.convert_to_tensor([1,2,3,4,5])"
      ],
      "execution_count": null,
      "outputs": []
    }
  ]
}